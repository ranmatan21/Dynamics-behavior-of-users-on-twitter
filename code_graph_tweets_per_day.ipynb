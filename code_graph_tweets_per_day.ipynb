{
 "cells": [
  {
   "cell_type": "code",
   "execution_count": null,
   "metadata": {},
   "outputs": [],
   "source": [
    "import pandas as pd\n",
    "import matplotlib.pyplot as plt\n",
    "\n",
    "# Load the Excel file\n",
    "df = pd.read_excel(\"PostsByUsers.xlsx\")\n",
    "\n",
    "# Keep only rows with valid post_date values\n",
    "df = df[df['post_date'].notna()].copy()\n",
    "\n",
    "# Convert post_date to datetime, remove timezone information\n",
    "df['post_date'] = pd.to_datetime(df['post_date'], utc=True).dt.tz_convert(None)\n",
    "\n",
    "# Group by user and compute tweet statistics\n",
    "user_stats = df.groupby(['user_id', 'user_name']).agg(\n",
    "    num_posts=('tweet_id', 'count'),\n",
    "    first_post_date=('post_date', 'min'),\n",
    "    last_post_date=('post_date', 'max')\n",
    ").reset_index()\n",
    "\n",
    "# Calculate the time span and tweet frequency per day\n",
    "user_stats['days_span'] = (user_stats['last_post_date'] - user_stats['first_post_date']).dt.days + 1\n",
    "user_stats['tweets_per_day'] = user_stats['num_posts'] / user_stats['days_span']\n",
    "\n",
    "# Classify activity level: \n",
    "# L = 0-1 tweets/day, M = 2-5 tweets/day, H = >5 tweets/day\n",
    "def classify_activity(tweets_per_day):\n",
    "    if tweets_per_day <= 1:\n",
    "        return 'L'\n",
    "    elif tweets_per_day <= 5:\n",
    "        return 'M'\n",
    "    else:\n",
    "        return 'H'\n",
    "\n",
    "user_stats['activity_level'] = user_stats['tweets_per_day'].apply(classify_activity)\n",
    "\n",
    "# Save to Excel\n",
    "user_stats.to_excel(\"User_Tweet_Activity_Final_HML.xlsx\", index=False)\n",
    "\n",
    "# Count number of users in each activity level\n",
    "activity_counts = user_stats['activity_level'].value_counts().reindex(['L', 'M', 'H'], fill_value=0)\n",
    "\n",
    "# Plot bar chart\n",
    "plt.figure(figsize=(6, 4))\n",
    "activity_counts.plot(kind='bar', color=['skyblue', 'orange', 'lightgreen'])\n",
    "plt.title(\"User Tweet Activity Levels\", fontsize=14)\n",
    "plt.xlabel(\"Activity Level\", fontsize=12)\n",
    "plt.ylabel(\"Number of Users\", fontsize=12)\n",
    "plt.xticks(ticks=[0, 1, 2], labels=['Low (0-1)', 'Medium (2-5)', 'High (>5)'], rotation=0)\n",
    "plt.grid(axis='y', linestyle='--', alpha=0.7)\n",
    "plt.tight_layout()\n",
    "plt.show()\n"
   ]
  }
 ],
 "metadata": {
  "kernelspec": {
   "display_name": "Python 3",
   "language": "python",
   "name": "python3"
  },
  "language_info": {
   "name": "python",
   "version": "3.12.4"
  }
 },
 "nbformat": 4,
 "nbformat_minor": 2
}
